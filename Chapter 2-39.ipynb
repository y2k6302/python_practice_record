{
 "cells": [
  {
   "cell_type": "markdown",
   "metadata": {},
   "source": [
    "## Chapter2"
   ]
  },
  {
   "cell_type": "code",
   "execution_count": 30,
   "metadata": {
    "collapsed": false
   },
   "outputs": [
    {
     "name": "stdout",
     "output_type": "stream",
     "text": [
      "5\n",
      "4\n",
      "3\n",
      "2\n",
      "1\n",
      "ha\n"
     ]
    }
   ],
   "source": [
    "for countdown in 5,4,3,2,1,\"ha\":\n",
    "    print countdown  #countdown根據逗號依序把東西印出"
   ]
  },
  {
   "cell_type": "code",
   "execution_count": 37,
   "metadata": {
    "collapsed": false
   },
   "outputs": [
    {
     "name": "stdout",
     "output_type": "stream",
     "text": [
      "3.5\n",
      "3\n"
     ]
    }
   ],
   "source": [
    "print 7.0/2 #這樣就可以印出浮點數(數字加上小數點)\n",
    "print 7/2"
   ]
  },
  {
   "cell_type": "code",
   "execution_count": 35,
   "metadata": {
    "collapsed": false
   },
   "outputs": [
    {
     "data": {
      "text/plain": [
       "81"
      ]
     },
     "execution_count": 35,
     "metadata": {},
     "output_type": "execute_result"
    }
   ],
   "source": [
    "3**4 #平方的意思"
   ]
  },
  {
   "cell_type": "markdown",
   "metadata": {},
   "source": [
    "## divmod()同時取得商數和餘數"
   ]
  },
  {
   "cell_type": "code",
   "execution_count": 46,
   "metadata": {
    "collapsed": false
   },
   "outputs": [
    {
     "name": "stdout",
     "output_type": "stream",
     "text": [
      "(1, 4)\n",
      "(1, 3)\n",
      "1 3\n"
     ]
    }
   ],
   "source": [
    "#同時取得商數與餘數的方法\n",
    "print divmod(9,5)\n",
    "a = divmod(9,6)\n",
    "print a\n",
    "print a[0],a[1] #透過[]方式分別取得商，餘數"
   ]
  },
  {
   "cell_type": "code",
   "execution_count": 57,
   "metadata": {
    "collapsed": false
   },
   "outputs": [
    {
     "name": "stdout",
     "output_type": "stream",
     "text": [
      "2\n",
      "16\n",
      "10\n"
     ]
    }
   ],
   "source": [
    "print 0b10 #二進位，在前面加上ob\n",
    "print 0o12 #八進位，在前面加上0o\n",
    "print 0x10 #16進位，在前面加上ox\n"
   ]
  },
  {
   "cell_type": "code",
   "execution_count": 68,
   "metadata": {
    "collapsed": false
   },
   "outputs": [
    {
     "name": "stdout",
     "output_type": "stream",
     "text": [
      "1\n",
      "2\n",
      "999\n",
      "--------------------------------------\n",
      "98.0\n",
      "98.0\n"
     ]
    }
   ],
   "source": [
    "#類型轉換-int()\n",
    "print int(True)\n",
    "print int(2.4343)\n",
    "print int('999')\n",
    "#print int('999.3545')  #不能轉換字串類型的浮點數\n",
    "print \"--------------------------------------\"\n",
    "#類型轉換-float()\n",
    "print float(98)\n",
    "print float('98')"
   ]
  },
  {
   "cell_type": "markdown",
   "metadata": {},
   "source": [
    "# int有多大\n",
    "- python2 中 int = 32 位元 long = 64位元\n",
    "- python3 中 只剩int = 無限大"
   ]
  },
  {
   "cell_type": "code",
   "execution_count": 65,
   "metadata": {
    "collapsed": false
   },
   "outputs": [
    {
     "name": "stdout",
     "output_type": "stream",
     "text": [
      "10000000000000000000000000000000000000000000000000000000000000000000000000000000000000000000000000000\n"
     ]
    }
   ],
   "source": [
    "google = 10**100\n",
    "print google"
   ]
  },
  {
   "cell_type": "markdown",
   "metadata": {},
   "source": [
    "## 用 \\ 來轉義"
   ]
  },
  {
   "cell_type": "code",
   "execution_count": 9,
   "metadata": {
    "collapsed": false
   },
   "outputs": [
    {
     "name": "stdout",
     "output_type": "stream",
     "text": [
      "132\n",
      "235\n",
      "132\\n235\n",
      "\tabc\n"
     ]
    }
   ],
   "source": [
    "a = '132\\n235'\n",
    "b = '132\\\\n235'\n",
    "print a\n",
    "print b\n",
    "print('\\tabc')"
   ]
  },
  {
   "cell_type": "code",
   "execution_count": 11,
   "metadata": {
    "collapsed": false
   },
   "outputs": [
    {
     "data": {
      "text/plain": [
       "'hello world'"
      ]
     },
     "execution_count": 11,
     "metadata": {},
     "output_type": "execute_result"
    }
   ],
   "source": [
    "\"hello \" \"world\""
   ]
  },
  {
   "cell_type": "markdown",
   "metadata": {},
   "source": [
    "## 用 * 來複製"
   ]
  },
  {
   "cell_type": "code",
   "execution_count": 12,
   "metadata": {
    "collapsed": false
   },
   "outputs": [
    {
     "name": "stdout",
     "output_type": "stream",
     "text": [
      "nananana\n"
     ]
    }
   ],
   "source": [
    "start = 'na' * 4\n",
    "print start"
   ]
  },
  {
   "cell_type": "markdown",
   "metadata": {},
   "source": [
    "## Slice\n",
    "- [開始 :　結束　：　間隔] 開始要，開始不要\n",
    "- [:] 整個序列\n",
    "- [Start :]\n",
    "- [: end]\n",
    "- [start : end]\n",
    "- [start : end : step]"
   ]
  },
  {
   "cell_type": "code",
   "execution_count": 14,
   "metadata": {
    "collapsed": false
   },
   "outputs": [
    {
     "data": {
      "text/plain": [
       "'appy'"
      ]
     },
     "execution_count": 14,
     "metadata": {},
     "output_type": "execute_result"
    }
   ],
   "source": [
    "name = 'happy'\n",
    "'p' + name[1:]\n",
    "name[1:]"
   ]
  },
  {
   "cell_type": "code",
   "execution_count": 20,
   "metadata": {
    "collapsed": false
   },
   "outputs": [
    {
     "data": {
      "text/plain": [
       "'9876543210'"
      ]
     },
     "execution_count": 20,
     "metadata": {},
     "output_type": "execute_result"
    }
   ],
   "source": [
    "a = '0123456789'\n",
    "a[:5] #第五個開始不要\n",
    "a[-6:-3]\n",
    "a[::2] #取偶數\n",
    "a[::-1] #倒著取"
   ]
  },
  {
   "cell_type": "markdown",
   "metadata": {},
   "source": [
    "## split()\n",
    "- 字串專用的函示"
   ]
  },
  {
   "cell_type": "code",
   "execution_count": 30,
   "metadata": {
    "collapsed": false
   },
   "outputs": [
    {
     "data": {
      "text/plain": [
       "['hello', 'world']"
      ]
     },
     "execution_count": 30,
     "metadata": {},
     "output_type": "execute_result"
    }
   ],
   "source": [
    "a ='hello world'\n",
    "a.split() #若無指定分隔符號，則自動使用空白、換行、tab"
   ]
  },
  {
   "cell_type": "markdown",
   "metadata": {},
   "source": [
    "## join()\n",
    "- 將List(串列)中的元素組成一個字串"
   ]
  },
  {
   "cell_type": "code",
   "execution_count": 32,
   "metadata": {
    "collapsed": false
   },
   "outputs": [
    {
     "data": {
      "text/plain": [
       "'hello world'"
      ]
     },
     "execution_count": 32,
     "metadata": {},
     "output_type": "execute_result"
    }
   ],
   "source": [
    "a_list = ['hello','world']\n",
    "' '.join(a_list)"
   ]
  },
  {
   "cell_type": "markdown",
   "metadata": {},
   "source": [
    "## 把玩字串"
   ]
  },
  {
   "cell_type": "code",
   "execution_count": 72,
   "metadata": {
    "collapsed": false
   },
   "outputs": [
    {
     "name": "stdout",
     "output_type": "stream",
     "text": [
      "hello my name is Ia\n",
      "20\n",
      "True\n",
      "False\n",
      "3\n",
      "18\n",
      "1\n",
      "    hello world  \n",
      "hello world\n",
      "Hello my name is ian\n",
      "Hello My Name Is Ian\n",
      "HELLO MY NAME IS IAN\n",
      "hello my name is ian\n",
      "hello my name is john\n",
      "hehho my name is Ian\n",
      "aa bb cc dd ee aa aa ff ff ff\n"
     ]
    }
   ],
   "source": [
    "a = 'hello my name is Ian'\n",
    "#取得前面的字元\n",
    "print a[:-1]\n",
    "\n",
    "#有幾個字元(包含空白，換行符號)\n",
    "print len(a)\n",
    "\n",
    "#他的開頭是不是hello\n",
    "print a.startswith('hello')\n",
    "\n",
    "#他的結尾是不是hello\n",
    "print a.endswith('hello')\n",
    "\n",
    "#找出第一個lo的位移值\n",
    "print a.find('lo')\n",
    "\n",
    "#最後一次出現 a 的位移值\n",
    "print a.rfind('a')\n",
    "\n",
    "#計算某字串出現的次數\n",
    "print a.count('h')\n",
    "\n",
    "#移除前後兩端的東西\n",
    "b = '    hello world  '\n",
    "print b\n",
    "print b.strip()\n",
    "\n",
    "#將第一個字母改為大寫\n",
    "print a.capitalize()\n",
    "\n",
    "#將所有單字第一個字母改成大寫\n",
    "print a.title()\n",
    "\n",
    "#將所有字元改成大寫\n",
    "print a.upper()\n",
    "\n",
    "#將所有字元改成小寫\n",
    "print a.lower()\n",
    "\n",
    "#用replace()來替換\n",
    "print a.replace('Ian','john')\n",
    "print a.replace('l','h')\n",
    "\n",
    "b = 'aa bb cc dd ee ff ff ff ff ff'\n",
    "print b.replace('ff','aa',2)  #總共有三個參數，可以選擇要替換掉幾個"
   ]
  },
  {
   "cell_type": "code",
   "execution_count": null,
   "metadata": {
    "collapsed": true
   },
   "outputs": [],
   "source": []
  }
 ],
 "metadata": {
  "kernelspec": {
   "display_name": "Python 2",
   "language": "python",
   "name": "python2"
  },
  "language_info": {
   "codemirror_mode": {
    "name": "ipython",
    "version": 2
   },
   "file_extension": ".py",
   "mimetype": "text/x-python",
   "name": "python",
   "nbconvert_exporter": "python",
   "pygments_lexer": "ipython2",
   "version": "2.7.11"
  }
 },
 "nbformat": 4,
 "nbformat_minor": 0
}
